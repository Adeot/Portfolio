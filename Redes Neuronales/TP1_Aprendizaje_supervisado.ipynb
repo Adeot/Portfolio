{
 "cells": [
  {
   "cell_type": "markdown",
   "id": "7d065058",
   "metadata": {},
   "source": [
    "# Redes Neuronales Artificiales\n",
    "## Trabajo Práctico 1\n",
    "### Agustin de Otazua - 277/21"
   ]
  },
  {
   "cell_type": "code",
   "execution_count": 1,
   "id": "61791ea6",
   "metadata": {},
   "outputs": [],
   "source": [
    "import numpy as np\n",
    "from matplotlib import pyplot as plt\n",
    "import requests\n",
    "\n",
    "plt.rcParams['figure.figsize'] = (12, 6)"
   ]
  },
  {
   "cell_type": "code",
   "execution_count": 4,
   "id": "062e4ce7",
   "metadata": {},
   "outputs": [],
   "source": [
    "def bias_add(V):\n",
    "    bias = -np.ones( (len(V),1) )\n",
    "    return np.concatenate((V,bias), axis=1).copy()\n",
    "\n",
    "def bias_sub(V):\n",
    "    return V[:,:-1].copy()\n",
    "\n",
    "def sigmoid(x):\n",
    "#     if x > 5:\n",
    "#         res = 1\n",
    "#     elif x < -5:\n",
    "#         res = 0\n",
    "#     else:\n",
    "#         res = 1/(1 + np.exp(-x))\n",
    "#     return res\n",
    "    return 1/(1 + np.exp(-x))\n",
    "\n",
    "def standardize(X, individual_std = True):\n",
    "    if individual_std:\n",
    "        return (X-X.mean(axis=0))/X.std(axis=0)\n",
    "    else:\n",
    "        return (X-X.mean(axis=0))/X.std()\n",
    "\n",
    "def val_train_test_split(X, Z):\n",
    "    L = len(X)\n",
    "    indexes = np.random.permutation(L)\n",
    "    val = indexes[:int(0.25*L)]\n",
    "    trn = indexes[int(0.25*L):int(0.9*L)]\n",
    "    tst = indexes[int(0.9*L):]\n",
    "    return X[val], X[trn], X[tst], Z[val], Z[trn], Z[tst]"
   ]
  },
  {
   "cell_type": "markdown",
   "id": "1cd4c235",
   "metadata": {},
   "source": [
    "### Parte 1: Diagnóstico de cáncer de mamas"
   ]
  },
  {
   "cell_type": "markdown",
   "id": "2d39025c",
   "metadata": {},
   "source": [
    "#### Descripción"
   ]
  },
  {
   "cell_type": "markdown",
   "id": "69ebf535",
   "metadata": {},
   "source": [
    "Se tiene un dataset de pacientes, donde en cada uno están definidos diez atributos médicos y una variable binaria que indica el diagnóstico sobre si tiene cáncer de mama (1) o no (0). \n",
    "\n",
    "El objetivo es entrenar una red neuronal artificial que sepa predecir el diagnóstico de cada paciente en base a esos atributos."
   ]
  },
  {
   "cell_type": "markdown",
   "id": "4284f878",
   "metadata": {},
   "source": [
    "#### Creo la clase de un clasificador binario basado en un perceptrón multicapa."
   ]
  },
  {
   "cell_type": "markdown",
   "id": "423450f2",
   "metadata": {},
   "source": [
    "* Uso activaciones *tanh* para las capas internas y una *sigmoid* para la capa de salida.\n",
    "\n",
    "* Las listas de *W* y *dW* quedan con longitud una unidad menor al número de capas ya que no utilizo las matrices vacías de cada una."
   ]
  },
  {
   "cell_type": "code",
   "execution_count": 15,
   "id": "8608189b",
   "metadata": {},
   "outputs": [],
   "source": [
    "class MLP_BinaryClassifier:\n",
    "    def __init__(self, sizes):\n",
    "        self.S = sizes\n",
    "        self.L = len(sizes)\n",
    "        self.Y = [np.zeros((1, sizes[i]+1)) for i in range(self.L)]\n",
    "        self.W = [np.random.normal( 0, 0.5, (sizes[i]+1, sizes[i+1])) for i in range(self.L-1)]\n",
    "        self.dW = [np.zeros((sizes[i]+1, sizes[i+1])) for i in range(self.L-1)]\n",
    "        self.errors = []\n",
    "    \n",
    "    def activation(self, X):\n",
    "        Y_act = X.reshape(1,self.S[0])    # vector activacion\n",
    "        for i in range(self.L - 2):\n",
    "            self.Y[i] = bias_add(Y_act)\n",
    "            Y_act = np.tanh(np.dot(self.Y[i], self.W[i]))  \n",
    "        self.Y[-2] = bias_add(Y_act)\n",
    "        Y_act = np.array([[sigmoid(np.dot(self.Y[-2], self.W[-1])[0,0])]] )   \n",
    "        self.Y[-1] = Y_act\n",
    "        return Y_act\n",
    "    \n",
    "    def correction(self, Z):\n",
    "        E = Z - self.Y[-1]\n",
    "        #dY = 1-np.square(self.Y[-1]) #ajuste tanh\n",
    "        dY = self.Y[-1] - np.square(self.Y[-1])  #ajuste sigmoide\n",
    "        D = E*dY\n",
    "        for i in range(self.L-2, -1, -1):\n",
    "            self.dW[i] = np.dot(self.Y[i].T, D)\n",
    "            E = np.dot(D, self.W[i].T)\n",
    "            dY = 1-np.square(self.Y[i])\n",
    "            D = bias_sub(E*dY)  \n",
    "    \n",
    "    def adaptation(self, lr):\n",
    "        for i in range(self.L-1):\n",
    "            self.W[i] += lr * self.dW[i]\n",
    "        \n",
    "    def predict(self, X):\n",
    "        predictions = np.zeros((len(X), 1))\n",
    "        for i in range(len(X)):\n",
    "            predictions[i] = self.activation(X[i]).reshape(1)\n",
    "            if predictions[i, 0] > 0.5:\n",
    "                predictions[i, 0] = 1\n",
    "            else:\n",
    "                predictions[i, 0] = 0\n",
    "        return predictions   \n",
    "    \n",
    "    def fit(self, X_trn, Z_trn, X_val = None, Z_val = None, lr = 0.1, error_lim = 0.05, max_epochs = 300, print_epochs = False):\n",
    "        \n",
    "        Z_trn = Z_trn.reshape(len(Z_trn), 1)\n",
    "        \n",
    "        if (X_val is None) or (Z_val is None):\n",
    "            X_val = X_trn\n",
    "            Z_val = Z_trn            \n",
    "            \n",
    "        Z_val = Z_val.reshape(len(Z_val), 1)\n",
    "        \n",
    "        epochs = 0\n",
    "        error = np.inf\n",
    "        epoch_errors = np.zeros(len(X_trn))\n",
    "        \n",
    "        while(error > error_lim and epochs < max_epochs):\n",
    "            indexes = np.random.permutation(len(X_trn))\n",
    "            for i in indexes:\n",
    "                self.activation(X_trn[i])\n",
    "                self.correction(Z_trn[i])\n",
    "                self.adaptation(lr)\n",
    "                predictions = self.predict(X_val)\n",
    "                epoch_errors[i] = np.mean(np.sum(np.square(Z_val-predictions), axis=1)) \n",
    "                \n",
    "            self.errors.append(epoch_errors.mean()) \n",
    "            #self.errors += [np.mean(np.sum(np.square(Zh-predictions), axis=1))] \n",
    "            epochs += 1\n",
    "            \n",
    "        if print_epochs:\n",
    "            print(\"epoch = {}\".format(epochs))\n",
    "            \n",
    "    def accuracy(self, X, Z):\n",
    "        return (self.predict(X) == Z.reshape(len(Z), 1)).mean()"
   ]
  },
  {
   "cell_type": "markdown",
   "id": "c60f39b2",
   "metadata": {},
   "source": [
    "#### Cargo los datos completos."
   ]
  },
  {
   "cell_type": "code",
   "execution_count": 24,
   "id": "62c6bc2e",
   "metadata": {
    "scrolled": false
   },
   "outputs": [
    {
     "data": {
      "text/plain": [
       "(410, 11)"
      ]
     },
     "execution_count": 24,
     "metadata": {},
     "output_type": "execute_result"
    }
   ],
   "source": [
    "# data = np.loadtxt('tp1_ej1_training.csv' , delimiter = ',' )\n",
    "r = requests.get(\"https://git.exactas.uba.ar/redes-neuronales/clases/-/raw/master/practicas/datos/tp1_ej1_training.csv\")\n",
    "data = np.loadtxt(r.iter_lines() , delimiter = \",\")\n",
    "data.shape"
   ]
  },
  {
   "cell_type": "markdown",
   "id": "f841c2dc",
   "metadata": {},
   "source": [
    "#### Divido los datos entre diagnóstico (variable a predecir) y los atributos (covariables explicativas)."
   ]
  },
  {
   "cell_type": "code",
   "execution_count": 8,
   "id": "8e65d417",
   "metadata": {},
   "outputs": [],
   "source": [
    "diagnostico = data[:,0]\n",
    "atributos = data[:,1:]"
   ]
  },
  {
   "cell_type": "markdown",
   "id": "facda983",
   "metadata": {},
   "source": [
    "#### Busco una arquitectura apropiada"
   ]
  },
  {
   "cell_type": "markdown",
   "id": "89f21783",
   "metadata": {},
   "source": [
    "Dada una lista de arquitecturas posibles, con cada arquitectura en formato lista ($[10,3,1]$ por ej.), busco la que de un accuracy promedio mayor luego de correr una cantidad **num_models** de modelos por cada arquitectura.\n",
    "\n",
    "Consideraciones importantes:\n",
    "\n",
    "* El conjunto de validación será el 25% de los datos totales, el de entrenamiento un 65% y el de testeo un 10%. \n",
    "\n",
    "* Los distintos conjuntos son estandarizados restándole la media y dividiendo por la desviación estándar de cada variable por separado.\n",
    "\n",
    "* Uso una validacion de estilo *hold-out*. \n",
    "\n",
    "* Es importante que el modelo tenga un accuracy medio mayor a 0.5, ya que en caso contrario sería mejor clasificar 1 o 0 al azar."
   ]
  },
  {
   "cell_type": "code",
   "execution_count": 12,
   "id": "2486fa47",
   "metadata": {},
   "outputs": [],
   "source": [
    "def elegir_arquitectura_clasificador(X, Z, arquitecturas, num_models = 4, lr = 0.1, error_lim = 0.05, max_epochs = 100):\n",
    "    \"\"\"Devuelve la arquitectura que da un accuracy promedio mayor\"\"\"\n",
    "    arq_elegida = arquitecturas[0]\n",
    "    accuracy_max = 0\n",
    "    \n",
    "    for arq in arquitecturas:\n",
    "        \n",
    "        accuracy_list = np.array([])\n",
    "        \n",
    "        for i in range(num_models):\n",
    "            X_val, X_trn, X_tst, Z_val, Z_trn, Z_tst = val_train_test_split(X, Z)\n",
    "            X_val_s = standardize(X_val)\n",
    "            X_trn_s = standardize(X_trn)\n",
    "            X_tst_s = standardize(X_tst)\n",
    "            clasificador = MLP_BinaryClassifier(arq)\n",
    "            clasificador.fit(X_trn_s, Z_trn, X_val_s, Z_val, lr, error_lim, max_epochs)\n",
    "            acc = clasificador.accuracy(X_tst_s, Z_tst)\n",
    "            accuracy_list = np.append(accuracy_list, acc)\n",
    "            \n",
    "        accuracy_prom = accuracy_list.mean()\n",
    "        \n",
    "        if accuracy_prom > accuracy_max:\n",
    "            arq_elegida = arq\n",
    "            accuracy_max = accuracy_prom\n",
    "            \n",
    "        print(\"accuracy media de {} : {}\".format(arq, accuracy_prom)) \n",
    "        \n",
    "    print(\"arquitectura elegida: {}\".format(arq_elegida))  \n",
    "    \n",
    "    return arq_elegida"
   ]
  },
  {
   "cell_type": "code",
   "execution_count": 316,
   "id": "4facc8d1",
   "metadata": {},
   "outputs": [
    {
     "name": "stdout",
     "output_type": "stream",
     "text": [
      "accuracy media de [10, 9, 1] : 0.7317073170731707\n",
      "accuracy media de [10, 8, 1] : 0.6036585365853658\n",
      "accuracy media de [10, 8, 6, 1] : 0.6585365853658537\n",
      "accuracy media de [10, 6, 5, 1] : 0.6280487804878049\n",
      "accuracy media de [10, 6, 3, 1] : 0.6463414634146343\n",
      "accuracy media de [10, 7, 5, 3, 1] : 0.6585365853658537\n",
      "arquitectura elegida: [10, 9, 1]\n",
      "Wall time: 5min 28s\n"
     ]
    }
   ],
   "source": [
    "%%time\n",
    "arquitecturas = [[10, 9, 1], [10, 8, 1], [10, 8, 6, 1], [10, 6, 5, 1], [10, 6, 3, 1], [10, 7, 5, 3, 1]]\n",
    "arq_elegida = elegir_arquitectura_clasificador(atributos, diagnostico, arquitecturas, num_models = 4)"
   ]
  },
  {
   "cell_type": "code",
   "execution_count": 16,
   "id": "359197b0",
   "metadata": {},
   "outputs": [
    {
     "name": "stdout",
     "output_type": "stream",
     "text": [
      "accuracy media de [10, 15, 1] : 0.7317073170731707\n",
      "arquitectura elegida: [10, 15, 1]\n",
      "Wall time: 4min 5s\n"
     ]
    }
   ],
   "source": [
    "%%time\n",
    "arquitecturas = [[10, 15, 1]]\n",
    "arq_elegida = elegir_arquitectura_clasificador(atributos, diagnostico, arquitecturas, num_models = 1, max_epochs = 100)"
   ]
  },
  {
   "cell_type": "markdown",
   "id": "e6134637",
   "metadata": {},
   "source": [
    "Por lo obtenido, la arquitectura a seleccionar será $[10, 9, 1]$.\n",
    "\n",
    "Entreno el modelo con todos los datos del dataset."
   ]
  },
  {
   "cell_type": "code",
   "execution_count": 325,
   "id": "1e973e31",
   "metadata": {},
   "outputs": [],
   "source": [
    "atributos_s = standardize(atributos)\n",
    "clasificador = MLP_BinaryClassifier(arq_elegida)\n",
    "clasificador.fit(atributos_s, diagnostico, lr = 0.1, error_lim = 0.1, max_iters = 3000)"
   ]
  },
  {
   "cell_type": "markdown",
   "id": "ecd514d7",
   "metadata": {},
   "source": [
    "Para testearlo, se debe cambiar *atributos_s* y *diagnostico* del siguiente código por los datos de testeo. Primero estandarizar con *stardardize* los atributos."
   ]
  },
  {
   "cell_type": "code",
   "execution_count": 327,
   "id": "58c8e924",
   "metadata": {},
   "outputs": [
    {
     "data": {
      "text/plain": [
       "0.8195121951219512"
      ]
     },
     "execution_count": 327,
     "metadata": {},
     "output_type": "execute_result"
    }
   ],
   "source": [
    "clasificador.accuracy(atributos_s, diagnostico)"
   ]
  },
  {
   "cell_type": "markdown",
   "id": "b5b7231f",
   "metadata": {},
   "source": [
    "### Parte 2: Eficiencia Energética"
   ]
  },
  {
   "cell_type": "markdown",
   "id": "0b746a0e",
   "metadata": {},
   "source": [
    "#### Descripción\n",
    "\n",
    "Se tiene un dataset de edificios, donde en cada uno están definidas 8 características edilicias (atributos) y dos variables que indican la cantidad de carga energética que necesita la calefacción y la refrigeración. \n",
    "\n",
    "El objetivo es entrenar una red neuronal artificial que sepa predecir dichas cargas energéticas en base a esos atributos."
   ]
  },
  {
   "cell_type": "code",
   "execution_count": 25,
   "id": "7a2cc25c",
   "metadata": {},
   "outputs": [],
   "source": [
    "class MLP_Regressor:\n",
    "    def __init__(self, sizes):\n",
    "        self.S = sizes\n",
    "        self.L = len(sizes)\n",
    "        self.Y = [np.zeros((1, sizes[i]+1)) for i in range(self.L)]\n",
    "        self.W = [np.random.normal( 0, 0.5, (sizes[i]+1, sizes[i+1])) for i in range(self.L-1)]\n",
    "        self.dW = [np.zeros((sizes[i]+1, sizes[i+1])) for i in range(self.L-1)]\n",
    "        self.errors = []\n",
    "    \n",
    "    def activation(self, X):\n",
    "        Y_act = X.reshape(1,self.S[0])    # vector activacion\n",
    "        for i in range(self.L - 2):\n",
    "            self.Y[i] = bias_add(Y_act)\n",
    "            Y_act = np.tanh(np.dot(self.Y[i], self.W[i]))\n",
    "        self.Y[-2] = bias_add(Y_act)\n",
    "        Y_act = np.dot(self.Y[-2], self.W[-1])\n",
    "        self.Y[-1] = Y_act\n",
    "        return Y_act\n",
    "    \n",
    "    def correction(self, Z):\n",
    "        E = Z - self.Y[-1]\n",
    "        D = E\n",
    "        for i in range(self.L-2, -1, -1):\n",
    "            self.dW[i] = np.dot(self.Y[i].T, D)\n",
    "            E = np.dot(D, self.W[i].T)\n",
    "            dY = 1-np.square(self.Y[i])\n",
    "            D = bias_sub(E*dY)  \n",
    "    \n",
    "    def adaptation(self, lr):\n",
    "        for i in range(self.L-1):\n",
    "            self.W[i] += lr * self.dW[i]\n",
    "            \n",
    "    def predict(self, X):\n",
    "        predictions = np.zeros((len(X), self.S[-1]))\n",
    "        for i in range(len(X)):\n",
    "            if X.shape[1] == 1:\n",
    "                predictions[i] = self.activation(X[i]).reshape(1)\n",
    "            else:\n",
    "                predictions[i] = self.activation(X[i])\n",
    "        return np.array(predictions)    \n",
    "    \n",
    "    def estimation(self, X, Z):\n",
    "        predictions = self.predict(X)\n",
    "        return np.mean(np.sum(np.square(Z.reshape(len(Z), self.S[-1])-predictions), axis=1))\n",
    "    \n",
    "    def fit(self, X_trn, Z_trn, X_val = None, Z_val = None, lr = 0.1, error_lim = 0.05, max_epochs = 300, print_iters = False):\n",
    "        if Z_trn.shape[1] == 1:\n",
    "            Z_trn = Z_trn.reshape(len(Z_trn), 1)\n",
    "        if (X_val is None) or (Z_val is None):\n",
    "            X_val = X_trn\n",
    "            Z_val = Z_trn\n",
    "        if Z_trn.shape[1] == 1:\n",
    "            Z_val = Z_val.reshape(len(Z_val), 1)\n",
    "            \n",
    "        error = np.inf\n",
    "        epochs = 0\n",
    "        epoch_errors = np.zeros(len(X_trn))\n",
    "        \n",
    "        while(error > error_lim and epochs < max_epochs):\n",
    "            indexes = np.random.permutation(len(X_trn))\n",
    "            for i in indexes:\n",
    "                i = np.random.choice(len(X_trn))\n",
    "                self.activation(X_trn[i])\n",
    "                self.correction(Z_trn[i])\n",
    "                self.adaptation(lr)\n",
    "                predictions = self.predict(X_val)\n",
    "                epoch_errors[i] = np.mean(np.sum(np.square(Z_val-predictions), axis=1))\n",
    "                \n",
    "            self.errors.append(epoch_errors.mean())\n",
    "            epochs += 1\n",
    "            \n",
    "        if print_iters:\n",
    "            print(\"epochs = {}\".format(iters))\n",
    "                   "
   ]
  },
  {
   "cell_type": "markdown",
   "id": "2cef5206",
   "metadata": {},
   "source": [
    "#### Cargo los datos completos."
   ]
  },
  {
   "cell_type": "code",
   "execution_count": 18,
   "id": "11df572d",
   "metadata": {},
   "outputs": [
    {
     "data": {
      "text/plain": [
       "array([[7.100e-01, 7.105e+02, 2.695e+02, ..., 1.000e+00, 1.075e+01,\n",
       "        1.427e+01],\n",
       "       [7.900e-01, 6.370e+02, 3.430e+02, ..., 2.000e+00, 3.898e+01,\n",
       "        4.597e+01],\n",
       "       [6.600e-01, 7.595e+02, 3.185e+02, ..., 1.000e+00, 1.169e+01,\n",
       "        1.372e+01],\n",
       "       ...,\n",
       "       [6.600e-01, 7.595e+02, 3.185e+02, ..., 4.000e+00, 1.529e+01,\n",
       "        1.782e+01],\n",
       "       [9.800e-01, 5.145e+02, 2.940e+02, ..., 5.000e+00, 2.858e+01,\n",
       "        2.977e+01],\n",
       "       [8.200e-01, 6.125e+02, 3.185e+02, ..., 4.000e+00, 2.543e+01,\n",
       "        2.876e+01]])"
      ]
     },
     "execution_count": 18,
     "metadata": {},
     "output_type": "execute_result"
    }
   ],
   "source": [
    "# dataEE = np.loadtxt('tp1_ej2_training.csv' , delimiter = ',' )\n",
    "r = requests.get(\"https://git.exactas.uba.ar/redes-neuronales/clases/-/raw/master/practicas/datos/tp1_ej2_training.csv\")\n",
    "dataEE = np.loadtxt(r.iter_lines() , delimiter = \",\")\n",
    "dataEE"
   ]
  },
  {
   "cell_type": "code",
   "execution_count": 19,
   "id": "d013c298",
   "metadata": {},
   "outputs": [],
   "source": [
    "cargasEE = dataEE[:,-2:]\n",
    "atributosEE = dataEE[:,:-2]"
   ]
  },
  {
   "cell_type": "markdown",
   "id": "e7baa748",
   "metadata": {},
   "source": [
    "#### Busco una arquitectura apropiada"
   ]
  },
  {
   "cell_type": "markdown",
   "id": "fe922fad",
   "metadata": {},
   "source": [
    "Dada una lista de arquitecturas posibles, con cada arquitectura en formato lista ($[10,3,1]$ por ej.), busco la que de un accuracy promedio mayor luego de correr una cantidad **num_models** de modelos por cada arquitectura.\n",
    "\n",
    "Consideraciones importantes:\n",
    "\n",
    "* El conjunto de validación será el 25% de los datos totales, el de entrenamiento un 65% y el de testeo un 10%. \n",
    "\n",
    "* Los distintos conjuntos son estandarizados restándole la media de cada variable por separado y dividiendo por la desviación estándar de todo el dataset.\n",
    "\n",
    "* Uso una validacion de estilo *hold-out*. \n"
   ]
  },
  {
   "cell_type": "code",
   "execution_count": 26,
   "id": "e229275b",
   "metadata": {},
   "outputs": [],
   "source": [
    "def elegir_arquitectura_regresor(X, Z, arquitecturas, num_models = 4, lr = 0.1, error_lim = 0.05, max_epochs = 100):\n",
    "    \"\"\"Devuelve la arquitectura que da un error promedio mayor\"\"\"\n",
    "    arq_elegida = arquitecturas[0]\n",
    "    error_min = np.inf\n",
    "    \n",
    "    for arq in arquitecturas:\n",
    "        \n",
    "        error_list = np.array([])\n",
    "        \n",
    "        for i in range(num_models):\n",
    "            X_val, X_trn, X_tst, Z_val, Z_trn, Z_tst = val_train_test_split(X, Z)\n",
    "            X_val_s = standardize(X_val, individual_std = False)\n",
    "            X_trn_s = standardize(X_trn, individual_std = False)\n",
    "            X_tst_s = standardize(X_tst, individual_std = False)\n",
    "            regresor = MLP_Regressor(arq)\n",
    "            regresor.fit(X_trn_s, Z_trn, X_val_s, Z_val, lr, error_lim, max_epochs)\n",
    "            acc = regresor.estimation(X_tst_s, Z_tst)\n",
    "            error_list = np.append(error_list, acc)\n",
    "            \n",
    "        error_prom = error_list.mean()\n",
    "        \n",
    "        if error_prom < error_min:\n",
    "            arq_elegida = arq\n",
    "            error_min = error_prom\n",
    "            \n",
    "        print(\"error medio de {} : {}\".format(arq, error_prom)) \n",
    "        \n",
    "    print(\"arquitectura elegida: {}\".format(arq_elegida))  \n",
    "    \n",
    "    return arq_elegida"
   ]
  },
  {
   "cell_type": "code",
   "execution_count": 27,
   "id": "3df0e36d",
   "metadata": {
    "scrolled": true
   },
   "outputs": [
    {
     "name": "stdout",
     "output_type": "stream",
     "text": [
      "error medio de [8, 6, 2] : 111.47370034008242\n",
      "error medio de [8, 5, 2] : 119.725143016105\n",
      "error medio de [8, 10, 2] : 30.46652508283814\n",
      "error medio de [8, 10, 4, 2] : 198.0128807894593\n",
      "arquitectura elegida: [8, 10, 2]\n",
      "Wall time: 6min 44s\n"
     ]
    }
   ],
   "source": [
    "%%time\n",
    "arquitecturas = [[8, 6, 2],[8, 5, 2], [8, 10, 2], [8, 10, 4, 2]]\n",
    "arq_elegida = elegir_arquitectura_regresor(atributosEE, cargasEE, arquitecturas, num_models = 1)"
   ]
  },
  {
   "cell_type": "markdown",
   "id": "4cd20f50",
   "metadata": {},
   "source": [
    "Por lo obtenido, la arquitectura a seleccionar será $[8, 5, 2]$.\n",
    "\n",
    "Entreno el modelo con todos los datos del dataset."
   ]
  },
  {
   "cell_type": "code",
   "execution_count": 23,
   "id": "c11ea21b",
   "metadata": {},
   "outputs": [
    {
     "name": "stdout",
     "output_type": "stream",
     "text": [
      "error medio de [8, 10, 2] : 133.35394123207942\n",
      "arquitectura elegida: [8, 10, 2]\n",
      "Wall time: 4min 56s\n"
     ]
    }
   ],
   "source": [
    "%%time\n",
    "arquitecturas = [[8, 10, 2]]\n",
    "arq_elegida = elegir_arquitectura_regresor(atributosEE, cargasEE, arquitecturas, num_models = 1)"
   ]
  },
  {
   "cell_type": "code",
   "execution_count": 18,
   "id": "d33deb30",
   "metadata": {},
   "outputs": [],
   "source": [
    "atributosEE_s = standardize(atributosEE, individual_std = False)\n",
    "regresor = MLP_Regressor(arq_elegida)\n",
    "regresor.fit(atributosEE_s, cargasEE, lr = 0.1, error_lim = 0.1, max_iters = 3000)"
   ]
  },
  {
   "cell_type": "markdown",
   "id": "8e327ea4",
   "metadata": {},
   "source": [
    "Para testearlo, se debe cambiar *atributosEE_s* y *cargasEE* del siguiente código por los datos de testeo. Primero estandarizar con *stardardize* los atributos."
   ]
  },
  {
   "cell_type": "code",
   "execution_count": 19,
   "id": "476f4955",
   "metadata": {},
   "outputs": [
    {
     "data": {
      "text/plain": [
       "313.9107380052465"
      ]
     },
     "execution_count": 19,
     "metadata": {},
     "output_type": "execute_result"
    }
   ],
   "source": [
    "regresor.estimation(atributosEE_s, cargasEE)"
   ]
  },
  {
   "cell_type": "code",
   "execution_count": 22,
   "id": "94ca4360",
   "metadata": {},
   "outputs": [
    {
     "data": {
      "text/plain": [
       "<matplotlib.collections.PathCollection at 0x1c2f1a3d940>"
      ]
     },
     "execution_count": 22,
     "metadata": {},
     "output_type": "execute_result"
    },
    {
     "data": {
      "image/png": "[encoded data removed]",
      "text/plain": [
       "<Figure size 1200x600 with 1 Axes>"
      ]
     },
     "metadata": {},
     "output_type": "display_data"
    }
   ],
   "source": [
    "plt.scatter(range(len(regresor.errors)), regresor.errors)"
   ]
  },
  {
   "cell_type": "code",
   "execution_count": null,
   "id": "00432f02",
   "metadata": {},
   "outputs": [],
   "source": []
  }
 ],
 "metadata": {
  "kernelspec": {
   "display_name": "Python 3",
   "language": "python",
   "name": "python3"
  },
  "language_info": {
   "codemirror_mode": {
    "name": "ipython",
    "version": 3
   },
   "file_extension": ".py",
   "mimetype": "text/x-python",
   "name": "python",
   "nbconvert_exporter": "python",
   "pygments_lexer": "ipython3",
   "version": "3.9.13"
  }
 },
 "nbformat": 4,
 "nbformat_minor": 5
}
