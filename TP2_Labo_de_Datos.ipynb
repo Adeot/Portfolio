{
  "nbformat": 4,
  "nbformat_minor": 0,
  "metadata": {
    "colab": {
      "name": "TP2 - Labo de Datos.ipynb",
      "provenance": []
    },
    "kernelspec": {
      "name": "python3",
      "display_name": "Python 3"
    },
    "language_info": {
      "name": "python"
    }
  },
  "cells": [
    {
      "cell_type": "code",
      "metadata": {
        "id": "5S9PjhfwIaFn"
      },
      "source": [
        "import pandas as pd\n",
        "import numpy as np\n",
        "import matplotlib.pylab as plt # Para gráficos\n",
        "from sklearn.linear_model import LogisticRegression\n",
        "\n",
        "d = pd.read_csv('/content/drive/MyDrive/LaboDatos2021/anticoncepcion_indonesia.csv')"
      ],
      "execution_count": null,
      "outputs": []
    },
    {
      "cell_type": "code",
      "metadata": {
        "colab": {
          "base_uri": "https://localhost:8080/"
        },
        "id": "L3inBaJFKChw",
        "outputId": "872dd707-ff8c-415e-fdf2-1b07f7205669"
      },
      "source": [
        "print(d.columns)\n",
        "print(d['edad_mujer'].size)"
      ],
      "execution_count": null,
      "outputs": [
        {
          "output_type": "stream",
          "text": [
            "Index(['edad_mujer', 'educacion_mujer', 'educacion_hombre', 'numero_hijos',\n",
            "       'religion_mujer', 'mujer_trabaja', 'ocupacion_hombre', 'nivel_vida',\n",
            "       'exposicion_medios', 'metodo_anticonceptivo'],\n",
            "      dtype='object')\n",
            "296\n"
          ],
          "name": "stdout"
        }
      ]
    },
    {
      "cell_type": "code",
      "metadata": {
        "id": "qz3pp1skKIoZ"
      },
      "source": [
        "# Binarizo la columna 'metodo_anticonceptivo' en 0 (si no usa algún método anticonceptivo) y 1 (si usa algún método anticonceptivo) \n",
        "d_anticon = d.copy()\n",
        "for i in d_anticon.index:\n",
        "  if d_anticon.loc[i, 'metodo_anticonceptivo'] == 1:\n",
        "    d_anticon.loc[i, 'metodo_anticonceptivo'] = 0\n",
        "  else: \n",
        "    d_anticon.loc[i, 'metodo_anticonceptivo'] = 1"
      ],
      "execution_count": null,
      "outputs": []
    },
    {
      "cell_type": "code",
      "metadata": {
        "colab": {
          "base_uri": "https://localhost:8080/"
        },
        "id": "dN3UXohYxbkz",
        "outputId": "f8c782b7-4729-4a9f-b9e9-129cfeb0e84c"
      },
      "source": [
        "d_anticon['metodo_anticonceptivo'].value_counts()"
      ],
      "execution_count": null,
      "outputs": [
        {
          "output_type": "execute_result",
          "data": {
            "text/plain": [
              "1    165\n",
              "0    131\n",
              "Name: metodo_anticonceptivo, dtype: int64"
            ]
          },
          "metadata": {
            "tags": []
          },
          "execution_count": 3
        }
      ]
    },
    {
      "cell_type": "code",
      "metadata": {
        "colab": {
          "base_uri": "https://localhost:8080/"
        },
        "id": "jJYNh8xXyyat",
        "outputId": "a0ea4d35-d861-4942-a805-1e496c2de2a5"
      },
      "source": [
        "from sklearn.preprocessing import MinMaxScaler\n",
        "\n",
        "campos = ['edad_mujer', 'educacion_mujer', 'educacion_hombre', 'numero_hijos',\n",
        "       'religion_mujer', 'mujer_trabaja', 'ocupacion_hombre', 'nivel_vida',\n",
        "       'exposicion_medios'] # Lista que contiene las features de interés\n",
        "\n",
        "X = d_anticon[campos].values \n",
        "scaler = MinMaxScaler() # primero creo un objeto MinMaxScaler. Por defecto, esto normaliza los datos al intervalo [0,1]\n",
        "scaler.fit(X) # encuentro los parametros para el escaleo\n",
        "X = scaler.transform(X) # aplico la transformacion\n",
        "\n",
        "y = d_anticon['metodo_anticonceptivo'] \n",
        "\n",
        "regLog = LogisticRegression(penalty = 'none', class_weight='balanced', max_iter=10000) # Inicializamos nuevamente el modelo\n",
        "regLog.fit(X, y) # Ajustamos el modelo con los parámetros\n",
        "score = regLog.score(X,y) # Calculamos el score\n",
        "\n",
        "print('El score del modelo es de: {}'.format(round(score,4)))\n"
      ],
      "execution_count": null,
      "outputs": [
        {
          "output_type": "stream",
          "text": [
            "El score del modelo es de: 0.6926\n"
          ],
          "name": "stdout"
        }
      ]
    },
    {
      "cell_type": "code",
      "metadata": {
        "id": "b3CP_l3N2weE"
      },
      "source": [
        "from sklearn.metrics import confusion_matrix\n",
        "\n",
        "ypred = regLog.predict(X) # con esto obtengo la predicción de las etiquetas en base a mis datos\n"
      ],
      "execution_count": null,
      "outputs": []
    },
    {
      "cell_type": "code",
      "metadata": {
        "colab": {
          "base_uri": "https://localhost:8080/"
        },
        "id": "RpDDmeHv25tH",
        "outputId": "1052ab42-43cf-4080-e5ce-797933fa39f7"
      },
      "source": [
        "cm = confusion_matrix(ypred, y, normalize='true') # primera entrada son las etiquetas predichas, segunda son las reales\n",
        "\n",
        "print(cm)"
      ],
      "execution_count": null,
      "outputs": [
        {
          "output_type": "stream",
          "text": [
            "[[0.64705882 0.35294118]\n",
            " [0.26875    0.73125   ]]\n"
          ],
          "name": "stdout"
        }
      ]
    },
    {
      "cell_type": "code",
      "metadata": {
        "colab": {
          "base_uri": "https://localhost:8080/"
        },
        "id": "vBAy9OFc3q1J",
        "outputId": "c35515de-6c40-4def-d9d3-1fe370cd8bfe"
      },
      "source": [
        "cm = confusion_matrix(ypred, y) \n",
        "\n",
        "def balanced_accuracy(cm):\n",
        "  sensibilidad = cm[1,1]/(cm[1,1]+cm[0,1])\n",
        "  especificidad = cm[0,0]/(cm[1,0]+cm[0,0])\n",
        "  return [sensibilidad, especificidad, (sensibilidad + especificidad)/2]\n",
        "\n",
        "metricas = balanced_accuracy(cm)\n",
        "\n",
        "print('Matriz de confusion del modelo es:')\n",
        "print(cm)\n",
        "print('Sensibilidad del modelo es de: {}'.format(round(metricas[0],4)))  \n",
        "print('Especificidad del modelo es de: {}'.format(round(metricas[1],4)))  \n",
        "print('BA del modelo es de: {}'.format(round(metricas[2],4))) "
      ],
      "execution_count": null,
      "outputs": [
        {
          "output_type": "stream",
          "text": [
            "Matriz de confusion del modelo es:\n",
            "[[ 88  48]\n",
            " [ 43 117]]\n",
            "Sensibilidad del modelo es de: 0.7091\n",
            "Especificidad del modelo es de: 0.6718\n",
            "BA del modelo es de: 0.6904\n"
          ],
          "name": "stdout"
        }
      ]
    },
    {
      "cell_type": "markdown",
      "metadata": {
        "id": "ocQ_W7Dt-9jw"
      },
      "source": [
        "## Train - test split"
      ]
    },
    {
      "cell_type": "code",
      "metadata": {
        "colab": {
          "base_uri": "https://localhost:8080/",
          "height": 238
        },
        "id": "OtFdNvnhIlaW",
        "outputId": "1cb2bb9c-8963-4e77-ff50-72f0a6730e01"
      },
      "source": [
        "from sklearn.model_selection import train_test_split\n",
        "\n",
        "X_temp = X\n",
        "for i in np.arange(2,5):\n",
        "    X_temp = np.concatenate((X_temp,X**i), axis=1)\n",
        "X_1 = X_temp\n",
        " \n",
        "\n",
        "X_train, X_test, y_train, y_test = train_test_split(X_1, y, test_size=0.2)\n",
        "\n",
        "scaler = MinMaxScaler() # primero creo un objeto MinMaxScaler. Por defecto, esto normaliza los datos al intervalo [0,1]\n",
        "scaler.fit(X_train) # encuentro los parametros para el escaleo\n",
        "X_train = scaler.transform(X_train) # aplico la transformacion\n",
        "\n",
        "scaler = MinMaxScaler() # primero creo un objeto MinMaxScaler. Por defecto, esto normaliza los datos al intervalo [0,1]\n",
        "scaler.fit(X_test) # encuentro los parametros para el escaleo\n",
        "X_test = scaler.transform(X_test) # aplico la transformacion\n",
        "\n",
        "#### IMPORTANTE: HAGO LA NORMALIZACION DE LOS DATOS POR SEPARADO EN LOS SETS DE TRAIN Y TEST\n",
        "\n",
        "regLog = LogisticRegression(penalty = 'none', class_weight='balanced', max_iter=10000) # Inicializamos nuevamente el modelo\n",
        "regLog.fit(X_train, y_train) # Ajustamos el modelo con los parámetros\n",
        "\n",
        "score_train = regLog.score(X_train,y_train) # Calculamos el score\n",
        "ypred_train = regLog.predict(X_train) # con esto obtengo la predicción de las etiquetas en base a mis datos\n",
        "cm_train = confusion_matrix(ypred_train, y_train) # primera entrada son las etiquetas predichas, segunda son las reales\n",
        "metricas_train = balanced_accuracy(cm_train)\n",
        "\n",
        "print('Para TRAIN set:')\n",
        "print('El score del modelo es de: {}'.format(round(score_train,4))) # Le pido que printee el score del modelo. Le pido que lo haga con 4 cifras significativas\n",
        "print('Matriz de confusion del modelo es:')\n",
        "print(cm_train)\n",
        "print('Sensibilidad del modelo es de: {}'.format(round(metricas_train[0],4)))  \n",
        "print('Especificidad del modelo es de: {}'.format(round(metricas_train[1],4)))  \n",
        "print('BA del modelo es de: {}'.format(round(metricas_train[2],4))) \n",
        "print('\\n')\n",
        "\n",
        "score_test= regLog.score(X_test,y_test) # Calculamos el score\n",
        "ypred_test= regLog.predict(X_test) # con esto obtengo la predicción de las etiquetas en base a mis datos\n",
        "cm_test = confusion_matrix(ypred_test, y_test) # primera entrada son las etiquetas predichas, segunda son las reales\n",
        "metricas_test = balanced_accuracy(cm_test)\n",
        "\n",
        "\n",
        "print('Para TEST set:')\n",
        "print('El score del modelo es de: {}'.format(round(score_test,4))) # Le pido que printee el score del modelo. Le pido que lo haga con 4 cifras significativas\n",
        "print('Matriz de confusion del modelo es:')\n",
        "print(cm_test)\n",
        "print('Sensibilidad del modelo es de: {}'.format(round(metricas_test[0],4)))  \n",
        "print('Especificidad del modelo es de: {}'.format(round(metricas_test[1],4)))  \n",
        "print('BA del modelo es de: {}'.format(round(metricas_test[2],4))) \n"
      ],
      "execution_count": null,
      "outputs": [
        {
          "output_type": "error",
          "ename": "NameError",
          "evalue": "ignored",
          "traceback": [
            "\u001b[0;31m---------------------------------------------------------------------------\u001b[0m",
            "\u001b[0;31mNameError\u001b[0m                                 Traceback (most recent call last)",
            "\u001b[0;32m<ipython-input-5-f5927793821b>\u001b[0m in \u001b[0;36m<module>\u001b[0;34m()\u001b[0m\n\u001b[1;32m     24\u001b[0m \u001b[0mscore_train\u001b[0m \u001b[0;34m=\u001b[0m \u001b[0mregLog\u001b[0m\u001b[0;34m.\u001b[0m\u001b[0mscore\u001b[0m\u001b[0;34m(\u001b[0m\u001b[0mX_train\u001b[0m\u001b[0;34m,\u001b[0m\u001b[0my_train\u001b[0m\u001b[0;34m)\u001b[0m \u001b[0;31m# Calculamos el score\u001b[0m\u001b[0;34m\u001b[0m\u001b[0;34m\u001b[0m\u001b[0m\n\u001b[1;32m     25\u001b[0m \u001b[0mypred_train\u001b[0m \u001b[0;34m=\u001b[0m \u001b[0mregLog\u001b[0m\u001b[0;34m.\u001b[0m\u001b[0mpredict\u001b[0m\u001b[0;34m(\u001b[0m\u001b[0mX_train\u001b[0m\u001b[0;34m)\u001b[0m \u001b[0;31m# con esto obtengo la predicción de las etiquetas en base a mis datos\u001b[0m\u001b[0;34m\u001b[0m\u001b[0;34m\u001b[0m\u001b[0m\n\u001b[0;32m---> 26\u001b[0;31m \u001b[0mcm_train\u001b[0m \u001b[0;34m=\u001b[0m \u001b[0mconfusion_matrix\u001b[0m\u001b[0;34m(\u001b[0m\u001b[0mypred_train\u001b[0m\u001b[0;34m,\u001b[0m \u001b[0my_train\u001b[0m\u001b[0;34m)\u001b[0m \u001b[0;31m# primera entrada son las etiquetas predichas, segunda son las reales\u001b[0m\u001b[0;34m\u001b[0m\u001b[0;34m\u001b[0m\u001b[0m\n\u001b[0m\u001b[1;32m     27\u001b[0m \u001b[0mmetricas_train\u001b[0m \u001b[0;34m=\u001b[0m \u001b[0mbalanced_accuracy\u001b[0m\u001b[0;34m(\u001b[0m\u001b[0mcm_train\u001b[0m\u001b[0;34m)\u001b[0m\u001b[0;34m\u001b[0m\u001b[0;34m\u001b[0m\u001b[0m\n\u001b[1;32m     28\u001b[0m \u001b[0;34m\u001b[0m\u001b[0m\n",
            "\u001b[0;31mNameError\u001b[0m: name 'confusion_matrix' is not defined"
          ]
        }
      ]
    },
    {
      "cell_type": "code",
      "metadata": {
        "id": "XmQlOdxvNGog"
      },
      "source": [
        "def classifier(X,y,n,c):  # X es la matriz de features, y los labels, n-1 la potencia máxima en la que aparecerán los features, C es la constante de regularización\n",
        "\n",
        "  X_temp = X\n",
        "  for i in np.arange(2,n):\n",
        "    X_temp = np.concatenate((X_temp,X**i), axis=1)\n",
        "  X = X_temp\n",
        " \n",
        "  \n",
        "  X_train, X_test, y_train, y_test = train_test_split(X, y, test_size=0.3)\n",
        "\n",
        "  scaler = MinMaxScaler() # primero creo un objeto MinMaxScaler. Por defecto, esto normaliza los datos al intervalo [0,1]\n",
        "  scaler.fit(X_train) # encuentro los parametros para el escaleo\n",
        "  X_train = scaler.transform(X_train) # aplico la transformacion\n",
        "\n",
        "  scaler = MinMaxScaler() # primero creo un objeto MinMaxScaler. Por defecto, esto normaliza los datos al intervalo [0,1]\n",
        "  scaler.fit(X_test) # encuentro los parametros para el escaleo\n",
        "  X_test = scaler.transform(X_test) # aplico la transformacion\n",
        "\n",
        "  regLog = LogisticRegression(penalty = 'l2', class_weight='balanced', C=c, max_iter=10000) \n",
        "  regLog.fit(X_train, y_train) \n",
        "  \n",
        "  ypred_train = regLog.predict(X_train) # con esto obtengo la predicción de las etiquetas en base a mis datos\n",
        "  cm_train = confusion_matrix(ypred_train, y_train) # primera entrada son las etiquetas predichas, segunda son las reales\n",
        "  metricas_train = balanced_accuracy(cm_train)\n",
        "\n",
        "  ypred_test = regLog.predict(X_test) # con esto obtengo la predicción de las etiquetas en base a mis datos\n",
        "  cm_test= confusion_matrix(ypred_test, y_test) # primera entrada son las etiquetas predichas, segunda son las reales\n",
        "  metricas_test = balanced_accuracy(cm_test)\n",
        "\n",
        "  return metricas_train[2], metricas_test[2]"
      ],
      "execution_count": null,
      "outputs": []
    },
    {
      "cell_type": "code",
      "metadata": {
        "colab": {
          "base_uri": "https://localhost:8080/"
        },
        "id": "Cy5XMD3sPpjN",
        "outputId": "7ea608a2-6186-4899-e6b3-576412a569c9"
      },
      "source": [
        "n_values = np.arange(1,6) # rango de potencias maximas \n",
        "c_values = np.arange(3,10,0.5) # rango de constantes de regularizacion\n",
        "\n",
        "iterations = 100 # esto se puede poner en 100 para que no tarde mil años durante la clase\n",
        "\n",
        "mean_BA_train = np.zeros((len(n_values),len(c_values))) #  los arrays con los balanced accuracy para cada combinacion de hiperparametros, para train y test\n",
        "mean_BA_test = np.zeros((len(n_values),len(c_values)))\n",
        "\n",
        "for xx,n in enumerate(n_values): # itero sobre n\n",
        "    print(n)\n",
        "    for yy,c in enumerate(c_values): # itero sobre c\n",
        "      BA_test_temp = [] # variables temporales para ir poniendo los resultados a lo largo de las iteraciones\n",
        "      BA_train_temp = []\n",
        "      #print([n,c]) # esto es para los ansiosos\n",
        "      for it in np.arange(iterations): # itero\n",
        "          BA_train, BA_test = classifier(X,y,n,c)  # calculo las balanced accuracy para esos hiperparametros\n",
        "          BA_test_temp.append(BA_test) # agrego a las variables temporales\n",
        "          BA_train_temp.append(BA_train)\n",
        "      mean_BA_train[xx,yy] = np.mean(BA_train_temp) # calculo promedios\n",
        "      mean_BA_test[xx,yy] = np.mean(BA_test_temp)\n",
        "\n",
        "\n"
      ],
      "execution_count": null,
      "outputs": [
        {
          "output_type": "stream",
          "text": [
            "1\n",
            "2\n",
            "3\n",
            "4\n",
            "5\n"
          ],
          "name": "stdout"
        }
      ]
    },
    {
      "cell_type": "code",
      "metadata": {
        "colab": {
          "base_uri": "https://localhost:8080/",
          "height": 723
        },
        "id": "bNNGr6HzQt7Y",
        "outputId": "d3ef0dea-10ac-4752-cf62-e644ccf3507d"
      },
      "source": [
        "fig, ax = plt.subplots(1,1, figsize=(8,8))  # visualizacion train set\n",
        "img = ax.imshow(mean_BA_train) # graficamos la matriz\n",
        "y_label_list = n_values # estos son los ticks de los ejes\n",
        "x_label_list = c_values\n",
        "ax.set_xticks(np.arange(len(c_values))) # creo los ticks de los ejes\n",
        "ax.set_yticks(np.arange(len(n_values)))\n",
        "ax.set_yticklabels(y_label_list) # pongo los ticks de los ejes\n",
        "ax.set_xticklabels(x_label_list)\n",
        "plt.xlabel('C (constante de regularizacion)', fontsize=15) # le pongo nombre a ejes y titulo \n",
        "plt.ylabel('n (potencia maxima para elevar)', fontsize=15)\n",
        "plt.title('BA (train set)', fontsize=20)\n",
        "fig.colorbar(img, orientation=\"horizontal\", pad=0.2) # la barra de colores donde no me moleste\n",
        "\n",
        "fig, ax = plt.subplots(1,1, figsize=(8,8)) # visualizacion test set, ver comentarios para el caso train, es idéntico\n",
        "img = ax.imshow(mean_BA_test)\n",
        "y_label_list = n_values\n",
        "x_label_list = c_values\n",
        "ax.set_xticks(np.arange(len(c_values)))\n",
        "ax.set_yticks(np.arange(len(n_values)))\n",
        "ax.set_yticklabels(y_label_list)\n",
        "ax.set_xticklabels(x_label_list)\n",
        "plt.xlabel('C (constante de regularizacion)', fontsize=15)\n",
        "plt.ylabel('n (potencia maxima para elevar)', fontsize=15)\n",
        "plt.title('BA (test set)', fontsize=20)\n",
        "fig.colorbar(img, orientation=\"horizontal\", pad=0.2)\n"
      ],
      "execution_count": null,
      "outputs": [
        {
          "output_type": "execute_result",
          "data": {
            "text/plain": [
              "<matplotlib.colorbar.Colorbar at 0x7fd26fcf5a90>"
            ]
          },
          "metadata": {
            "tags": []
          },
          "execution_count": 78
        },
        {
          "output_type": "display_data",
          "data": {
            "image/png": "[encoded data removed]",
            "text/plain": [
              "<Figure size 576x576 with 2 Axes>"
            ]
          },
          "metadata": {
            "tags": [],
            "needs_background": "light"
          }
        },
        {
          "output_type": "display_data",
          "data": {
            "image/png": "[encoded data removed]",
            "text/plain": [
              "<Figure size 576x576 with 2 Axes>"
            ]
          },
          "metadata": {
            "tags": [],
            "needs_background": "light"
          }
        }
      ]
    },
    {
      "cell_type": "markdown",
      "metadata": {
        "id": "psoKXuHdG3N9"
      },
      "source": [
        "Tanto para train como test, se maximiza la performance para n = 3 y C = 5 aprox."
      ]
    },
    {
      "cell_type": "code",
      "metadata": {
        "colab": {
          "base_uri": "https://localhost:8080/"
        },
        "id": "rvk8TWDIH4Fd",
        "outputId": "d5a0eeba-649c-4858-f014-052ab967551d"
      },
      "source": [
        "classifier(X,y,3,5)"
      ],
      "execution_count": null,
      "outputs": [
        {
          "output_type": "execute_result",
          "data": {
            "text/plain": [
              "(0.6935897435897436, 0.6453252032520325)"
            ]
          },
          "metadata": {
            "tags": []
          },
          "execution_count": 15
        }
      ]
    },
    {
      "cell_type": "code",
      "metadata": {
        "colab": {
          "base_uri": "https://localhost:8080/"
        },
        "id": "z3n2VwhKKtnt",
        "outputId": "af9c9d0c-892f-4550-c7ba-dd92098040d3"
      },
      "source": [
        "classifier(X,y,3,9)"
      ],
      "execution_count": null,
      "outputs": [
        {
          "output_type": "execute_result",
          "data": {
            "text/plain": [
              "(0.7089743589743589, 0.6902947154471545)"
            ]
          },
          "metadata": {
            "tags": []
          },
          "execution_count": 16
        }
      ]
    },
    {
      "cell_type": "markdown",
      "metadata": {
        "id": "1XJoC1bNxnan"
      },
      "source": [
        "##Testeo"
      ]
    },
    {
      "cell_type": "code",
      "metadata": {
        "colab": {
          "base_uri": "https://localhost:8080/"
        },
        "id": "gnNtfDulxlzR",
        "outputId": "87fd4c8e-17dc-4d9f-aa37-8d4b6c7ea2fb"
      },
      "source": [
        "path = '/content/drive/My Drive/LaboDatos2021/anticoncepcion_indonesia_test.csv'\n",
        "df_test = pd.read_csv(path)\n",
        "df_test.columns"
      ],
      "execution_count": null,
      "outputs": [
        {
          "output_type": "execute_result",
          "data": {
            "text/plain": [
              "Index(['edad_mujer', 'educacion_mujer', 'educacion_hombre', 'numero_hijos',\n",
              "       'religion_mujer', 'mujer_trabaja', 'ocupacion_hombre', 'nivel_vida',\n",
              "       'exposicion_medios'],\n",
              "      dtype='object')"
            ]
          },
          "metadata": {
            "tags": []
          },
          "execution_count": 19
        }
      ]
    },
    {
      "cell_type": "code",
      "metadata": {
        "colab": {
          "base_uri": "https://localhost:8080/"
        },
        "id": "RJEjOqbhF-7A",
        "outputId": "37b8e956-476e-4835-eac2-7184bfb888f3"
      },
      "source": [
        "n = 3\n",
        "c = 5\n",
        "\n",
        "X_train = X\n",
        "for i in np.arange(2,n):\n",
        "  X_train = np.concatenate((X_train,X**i), axis=1)\n",
        "\n",
        " \n",
        "scaler = MinMaxScaler() # primero creo un objeto MinMaxScaler. Por defecto, esto normaliza los datos al intervalo [0,1]\n",
        "scaler.fit(X_train) # encuentro los parametros para el escaleo\n",
        "X_train = scaler.transform(X_train) # aplico la transformacion\n",
        "\n",
        "clf = LogisticRegression(penalty = 'l2', class_weight='balanced', C=c, max_iter=10000) \n",
        "clf.fit(X_train, y) \n",
        "\n",
        "ypred_train = regLog.predict(X_train) # con esto obtengo la predicción de las etiquetas en base a mis datos\n",
        "cm_train= confusion_matrix(ypred_train, y) # primera entrada son las etiquetas predichas, segunda son las reales\n",
        "metricas_train = balanced_accuracy(cm_train)\n",
        "\n",
        "print('Sensibilidad del modelo es de: {}'.format(round(metricas_train[0],4)))  \n",
        "print('Especificidad del modelo es de: {}'.format(round(metricas_train[1],4)))  \n",
        "print('BA del modelo es de: {}'.format(round(metricas_train[2],4))) "
      ],
      "execution_count": null,
      "outputs": [
        {
          "output_type": "stream",
          "text": [
            "Sensibilidad del modelo es de: 0.7333\n",
            "Especificidad del modelo es de: 0.6794\n",
            "BA del modelo es de: 0.7064\n"
          ],
          "name": "stdout"
        }
      ]
    },
    {
      "cell_type": "code",
      "metadata": {
        "id": "_e3OkIkF4Ogt"
      },
      "source": [
        "campos = ['edad_mujer', 'educacion_mujer', 'educacion_hombre', 'numero_hijos','religion_mujer', 'mujer_trabaja', 'ocupacion_hombre', 'nivel_vida', 'exposicion_medios']\n",
        "X_test = np.array(df_test[campos])\n",
        "\n",
        "X_test_ext = X_test  #features de testeo extendidas\n",
        "for i in np.arange(2,n):\n",
        "  X_test_ext = np.concatenate((X_test_ext, X_test**i), axis=1)\n",
        "\n",
        "scaler = MinMaxScaler() # primero creo un objeto MinMaxScaler. Por defecto, esto normaliza los datos al intervalo [0,1]\n",
        "scaler.fit(X_test_ext) # encuentro los parametros para el escaleo\n",
        "X_test_ext = scaler.transform(X_test_ext) # aplico la transformacion"
      ],
      "execution_count": null,
      "outputs": []
    },
    {
      "cell_type": "code",
      "metadata": {
        "colab": {
          "base_uri": "https://localhost:8080/"
        },
        "id": "-NPfcsF24PAN",
        "outputId": "b8610fa3-5202-484f-f4d7-b07f4816310b"
      },
      "source": [
        "probas = regLog.predict_proba(X_test_ext)\n",
        "print(probas)"
      ],
      "execution_count": null,
      "outputs": [
        {
          "output_type": "stream",
          "text": [
            "[[0.85120041 0.14879959]\n",
            " [0.80639857 0.19360143]\n",
            " [0.74554123 0.25445877]\n",
            " ...\n",
            " [0.95571664 0.04428336]\n",
            " [0.9462438  0.0537562 ]\n",
            " [0.79883746 0.20116254]]\n"
          ],
          "name": "stdout"
        }
      ]
    },
    {
      "cell_type": "code",
      "metadata": {
        "colab": {
          "base_uri": "https://localhost:8080/"
        },
        "id": "31lLn0LKAcyc",
        "outputId": "5aec2798-6787-426b-d8ca-a36ec5d5bed6"
      },
      "source": [
        "probas.shape"
      ],
      "execution_count": null,
      "outputs": [
        {
          "output_type": "execute_result",
          "data": {
            "text/plain": [
              "(1177, 2)"
            ]
          },
          "metadata": {
            "tags": []
          },
          "execution_count": 44
        }
      ]
    },
    {
      "cell_type": "code",
      "metadata": {
        "colab": {
          "base_uri": "https://localhost:8080/"
        },
        "id": "gzGqn9-H7nu3",
        "outputId": "01b9add3-adb1-4c43-fb80-eaa5376489bd"
      },
      "source": [
        "from sklearn.metrics import roc_auc_score\n",
        "\n",
        "auc = roc_auc_score(y, probas[:y.size,1])\n",
        "\n",
        "print(auc)"
      ],
      "execution_count": null,
      "outputs": [
        {
          "output_type": "stream",
          "text": [
            "0.4881101087207957\n"
          ],
          "name": "stdout"
        }
      ]
    },
    {
      "cell_type": "code",
      "metadata": {
        "colab": {
          "base_uri": "https://localhost:8080/",
          "height": 475
        },
        "id": "kkzAch9YNq6N",
        "outputId": "a9a46913-24e7-4bbb-d593-d44cec8fb13f"
      },
      "source": [
        "from sklearn.metrics import roc_curve\n",
        "\n",
        "fpr_test, tpr_test, thresholds_test = roc_curve(y, probas[:y.size,1]) \n",
        "\n",
        "fig, ax = plt.subplots(figsize = (10,7))\n",
        "ax.set_title('Verdaderos positivos vs. falsos positivos')\n",
        "ax.plot(fpr_test,tpr_test, label = \"Evaluacion\") # graficamos la curva ROC para el set de evaluacion\n",
        "\n",
        "ax.set_xlabel('Tasa de falsos positivos') # Etiqueta del eje x\n",
        "ax.set_ylabel('Tasa de verdaderos positivos') # Etiqueta del eje y\n",
        "\n",
        "plt.legend()"
      ],
      "execution_count": null,
      "outputs": [
        {
          "output_type": "execute_result",
          "data": {
            "text/plain": [
              "<matplotlib.legend.Legend at 0x7f1c9745a550>"
            ]
          },
          "metadata": {
            "tags": []
          },
          "execution_count": 60
        },
        {
          "output_type": "display_data",
          "data": {
            "image/png": "[encoded data removed]",
            "text/plain": [
              "<Figure size 720x504 with 1 Axes>"
            ]
          },
          "metadata": {
            "tags": [],
            "needs_background": "light"
          }
        }
      ]
    },
    {
      "cell_type": "code",
      "metadata": {
        "id": "FEJ-6cvECqNJ"
      },
      "source": [
        "save_path= '/content/drive/My Drive/LaboDatos2021/Agustin_deOtazua.csv' # acá uds. van a tener que poner un directorio suyo en drive, porque no tienen permisos de escribir en el directorio LaboDatos2021\n",
        "\n",
        "np.savetxt(save_path, probas, delimiter=\",\")"
      ],
      "execution_count": null,
      "outputs": []
    }
  ]
}